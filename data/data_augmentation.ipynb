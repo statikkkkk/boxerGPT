{
 "cells": [
  {
   "cell_type": "code",
   "execution_count": 1,
   "metadata": {},
   "outputs": [],
   "source": [
    "# no. of times to sample a single combo to add defensive moves\n",
    "SAMPLE_TIMES = 100"
   ]
  },
  {
   "cell_type": "code",
   "execution_count": 2,
   "metadata": {},
   "outputs": [],
   "source": [
    "import pandas as pd\n",
    "import numpy as np\n",
    "\n",
    "df = pd.read_csv(\"basic_drills.txt\", sep=\"\\t\", header=None)\n"
   ]
  },
  {
   "cell_type": "code",
   "execution_count": 3,
   "metadata": {},
   "outputs": [
    {
     "data": {
      "text/html": [
       "<div>\n",
       "<style scoped>\n",
       "    .dataframe tbody tr th:only-of-type {\n",
       "        vertical-align: middle;\n",
       "    }\n",
       "\n",
       "    .dataframe tbody tr th {\n",
       "        vertical-align: top;\n",
       "    }\n",
       "\n",
       "    .dataframe thead th {\n",
       "        text-align: right;\n",
       "    }\n",
       "</style>\n",
       "<table border=\"1\" class=\"dataframe\">\n",
       "  <thead>\n",
       "    <tr style=\"text-align: right;\">\n",
       "      <th></th>\n",
       "      <th>0</th>\n",
       "    </tr>\n",
       "  </thead>\n",
       "  <tbody>\n",
       "    <tr>\n",
       "      <th>0</th>\n",
       "      <td>1, 2</td>\n",
       "    </tr>\n",
       "    <tr>\n",
       "      <th>1</th>\n",
       "      <td>1, 2, 3</td>\n",
       "    </tr>\n",
       "    <tr>\n",
       "      <th>2</th>\n",
       "      <td>1, 4</td>\n",
       "    </tr>\n",
       "    <tr>\n",
       "      <th>3</th>\n",
       "      <td>2, 3</td>\n",
       "    </tr>\n",
       "    <tr>\n",
       "      <th>4</th>\n",
       "      <td>2, 3, 2</td>\n",
       "    </tr>\n",
       "  </tbody>\n",
       "</table>\n",
       "</div>"
      ],
      "text/plain": [
       "         0\n",
       "0     1, 2\n",
       "1  1, 2, 3\n",
       "2     1, 4\n",
       "3     2, 3\n",
       "4  2, 3, 2"
      ]
     },
     "execution_count": 3,
     "metadata": {},
     "output_type": "execute_result"
    }
   ],
   "source": [
    "df.head()\n"
   ]
  },
  {
   "cell_type": "code",
   "execution_count": 4,
   "metadata": {},
   "outputs": [
    {
     "name": "stdout",
     "output_type": "stream",
     "text": [
      "<class 'pandas.core.frame.DataFrame'>\n",
      "RangeIndex: 19 entries, 0 to 18\n",
      "Data columns (total 1 columns):\n",
      " #   Column  Non-Null Count  Dtype \n",
      "---  ------  --------------  ----- \n",
      " 0   0       19 non-null     object\n",
      "dtypes: object(1)\n",
      "memory usage: 280.0+ bytes\n"
     ]
    }
   ],
   "source": [
    "# raw dataframe info\n",
    "df.info()\n"
   ]
  },
  {
   "cell_type": "code",
   "execution_count": 5,
   "metadata": {},
   "outputs": [
    {
     "data": {
      "text/html": [
       "<div>\n",
       "<style scoped>\n",
       "    .dataframe tbody tr th:only-of-type {\n",
       "        vertical-align: middle;\n",
       "    }\n",
       "\n",
       "    .dataframe tbody tr th {\n",
       "        vertical-align: top;\n",
       "    }\n",
       "\n",
       "    .dataframe thead th {\n",
       "        text-align: right;\n",
       "    }\n",
       "</style>\n",
       "<table border=\"1\" class=\"dataframe\">\n",
       "  <thead>\n",
       "    <tr style=\"text-align: right;\">\n",
       "      <th></th>\n",
       "      <th>0</th>\n",
       "    </tr>\n",
       "  </thead>\n",
       "  <tbody>\n",
       "    <tr>\n",
       "      <th>count</th>\n",
       "      <td>19</td>\n",
       "    </tr>\n",
       "    <tr>\n",
       "      <th>unique</th>\n",
       "      <td>18</td>\n",
       "    </tr>\n",
       "    <tr>\n",
       "      <th>top</th>\n",
       "      <td>1, 2, 5</td>\n",
       "    </tr>\n",
       "    <tr>\n",
       "      <th>freq</th>\n",
       "      <td>2</td>\n",
       "    </tr>\n",
       "  </tbody>\n",
       "</table>\n",
       "</div>"
      ],
      "text/plain": [
       "              0\n",
       "count        19\n",
       "unique       18\n",
       "top     1, 2, 5\n",
       "freq          2"
      ]
     },
     "execution_count": 5,
     "metadata": {},
     "output_type": "execute_result"
    }
   ],
   "source": [
    "# raw data description\n",
    "df.describe()\n"
   ]
  },
  {
   "cell_type": "code",
   "execution_count": 6,
   "metadata": {},
   "outputs": [],
   "source": [
    "from itertools import product\n",
    "\n",
    "\n",
    "def add_star_and_combine(strings):\n",
    "    # Add * to each string\n",
    "    strings_with_star = [s + \"*\" for s in strings]\n",
    "\n",
    "    # Generate all possible combinations of strings with and without *\n",
    "    combinations = product([True, False], repeat=len(strings))\n",
    "\n",
    "    # Combine strings according to the combination pattern\n",
    "    result = []\n",
    "    for pattern in combinations:\n",
    "        combined = [\n",
    "            s if not pattern[i] else strings_with_star[i] for i, s in enumerate(strings)\n",
    "        ]\n",
    "        result.append(combined)\n",
    "\n",
    "    return result\n"
   ]
  },
  {
   "cell_type": "code",
   "execution_count": 7,
   "metadata": {},
   "outputs": [],
   "source": [
    "# add body shots to the data in any positions\n",
    "def add_body_shots(row):\n",
    "    combo = [x.strip() for x in row[0].split(\",\")]\n",
    "    expanded_combos = add_star_and_combine(combo)\n",
    "    # print(combo)\n",
    "    return expanded_combos\n"
   ]
  },
  {
   "cell_type": "code",
   "execution_count": 8,
   "metadata": {},
   "outputs": [],
   "source": [
    "# add body shots to the data in any positions\n",
    "df = df.apply(add_body_shots, axis=1).explode(0)\n"
   ]
  },
  {
   "cell_type": "code",
   "execution_count": 9,
   "metadata": {},
   "outputs": [
    {
     "data": {
      "text/plain": [
       "0        [1*, 2*]\n",
       "0         [1*, 2]\n",
       "0         [1, 2*]\n",
       "0          [1, 2]\n",
       "1    [1*, 2*, 3*]\n",
       "dtype: object"
      ]
     },
     "execution_count": 9,
     "metadata": {},
     "output_type": "execute_result"
    }
   ],
   "source": [
    "df.head()\n"
   ]
  },
  {
   "cell_type": "code",
   "execution_count": 10,
   "metadata": {},
   "outputs": [
    {
     "name": "stdout",
     "output_type": "stream",
     "text": [
      "<class 'pandas.core.series.Series'>\n",
      "Int64Index: 200 entries, 0 to 18\n",
      "Series name: None\n",
      "Non-Null Count  Dtype \n",
      "--------------  ----- \n",
      "200 non-null    object\n",
      "dtypes: object(1)\n",
      "memory usage: 3.1+ KB\n"
     ]
    }
   ],
   "source": [
    "df.info()\n"
   ]
  },
  {
   "cell_type": "code",
   "execution_count": 11,
   "metadata": {},
   "outputs": [],
   "source": [
    "import random\n",
    "\n",
    "def add_defensive_moves_and_combine(strings):\n",
    "    defensive_moves = [7, 8, 9, 10, 11, 12, 13]\n",
    "    expanded_combos = []\n",
    "    for _ in range(SAMPLE_TIMES):\n",
    "        expanded_combo = []\n",
    "        # insert defensive moves to random positions\n",
    "        for i in range(len(strings)):\n",
    "            if random.random() < 0.3:\n",
    "                # add a defensive move\n",
    "                added_def_move = str(random.choice(defensive_moves))\n",
    "                # extend the list with the defensive move\n",
    "                expanded_combo.extend([strings[i], added_def_move])\n",
    "                # continue to add another defensive move or uppercuts\n",
    "                # if it is a 7 or 10\n",
    "                if added_def_move in [\"7\", \"12\"] and random.random() < 0.5:\n",
    "                    expanded_combo.append(random.choice([\"8\", \"5\", \"5*\", \"3\", \"3*\", \"1\", \"1*\"]))\n",
    "                if added_def_move in [\"8\", \"11\"] and random.random() < 0.5:\n",
    "                    expanded_combo.append(random.choice([\"2\", \"2*\", \"4\", \"4*\", \"6\", \"6*\"]))\n",
    "            else:\n",
    "                expanded_combo.append(strings[i])\n",
    "        expanded_combos.append(expanded_combo)\n",
    "    \n",
    "    # remove duplicates \n",
    "    expanded_combos = [list(x) for x in set(tuple(x) for x in expanded_combos)]\n",
    "    return expanded_combos"
   ]
  },
  {
   "cell_type": "code",
   "execution_count": 12,
   "metadata": {},
   "outputs": [],
   "source": [
    "# add dodge to the data in any positions\n",
    "# doges include token: 7 - 13\n",
    "# usually left slip is followed by a right slip, or a left hook/left uppercut\n",
    "\n",
    "def add_dodge(row):\n",
    "    combo = row\n",
    "    print(combo)\n",
    "    expanded_combos = add_defensive_moves_and_combine(combo)\n",
    "    # print(combo)\n",
    "    return expanded_combos"
   ]
  },
  {
   "cell_type": "code",
   "execution_count": 13,
   "metadata": {},
   "outputs": [
    {
     "name": "stdout",
     "output_type": "stream",
     "text": [
      "['1*', '2*']\n",
      "['1*', '2']\n",
      "['1', '2*']\n",
      "['1', '2']\n",
      "['1*', '2*', '3*']\n",
      "['1*', '2*', '3']\n",
      "['1*', '2', '3*']\n",
      "['1*', '2', '3']\n",
      "['1', '2*', '3*']\n",
      "['1', '2*', '3']\n",
      "['1', '2', '3*']\n",
      "['1', '2', '3']\n",
      "['1*', '4*']\n",
      "['1*', '4']\n",
      "['1', '4*']\n",
      "['1', '4']\n",
      "['2*', '3*']\n",
      "['2*', '3']\n",
      "['2', '3*']\n",
      "['2', '3']\n",
      "['2*', '3*', '2*']\n",
      "['2*', '3*', '2']\n",
      "['2*', '3', '2*']\n",
      "['2*', '3', '2']\n",
      "['2', '3*', '2*']\n",
      "['2', '3*', '2']\n",
      "['2', '3', '2*']\n",
      "['2', '3', '2']\n",
      "['6*', '3*']\n",
      "['6*', '3']\n",
      "['6', '3*']\n",
      "['6', '3']\n",
      "['5*', '2*']\n",
      "['5*', '2']\n",
      "['5', '2*']\n",
      "['5', '2']\n",
      "['1*', '2*', '5*']\n",
      "['1*', '2*', '5']\n",
      "['1*', '2', '5*']\n",
      "['1*', '2', '5']\n",
      "['1', '2*', '5*']\n",
      "['1', '2*', '5']\n",
      "['1', '2', '5*']\n",
      "['1', '2', '5']\n",
      "['5*', '6*', '3*']\n",
      "['5*', '6*', '3']\n",
      "['5*', '6', '3*']\n",
      "['5*', '6', '3']\n",
      "['5', '6*', '3*']\n",
      "['5', '6*', '3']\n",
      "['5', '6', '3*']\n",
      "['5', '6', '3']\n",
      "['1*', '1*', '2*']\n",
      "['1*', '1*', '2']\n",
      "['1*', '1', '2*']\n",
      "['1*', '1', '2']\n",
      "['1', '1*', '2*']\n",
      "['1', '1*', '2']\n",
      "['1', '1', '2*']\n",
      "['1', '1', '2']\n",
      "['1*', '2*', '1*']\n",
      "['1*', '2*', '1']\n",
      "['1*', '2', '1*']\n",
      "['1*', '2', '1']\n",
      "['1', '2*', '1*']\n",
      "['1', '2*', '1']\n",
      "['1', '2', '1*']\n",
      "['1', '2', '1']\n",
      "['1*', '2*', '1*', '2*']\n",
      "['1*', '2*', '1*', '2']\n",
      "['1*', '2*', '1', '2*']\n",
      "['1*', '2*', '1', '2']\n",
      "['1*', '2', '1*', '2*']\n",
      "['1*', '2', '1*', '2']\n",
      "['1*', '2', '1', '2*']\n",
      "['1*', '2', '1', '2']\n",
      "['1', '2*', '1*', '2*']\n",
      "['1', '2*', '1*', '2']\n",
      "['1', '2*', '1', '2*']\n",
      "['1', '2*', '1', '2']\n",
      "['1', '2', '1*', '2*']\n",
      "['1', '2', '1*', '2']\n",
      "['1', '2', '1', '2*']\n",
      "['1', '2', '1', '2']\n",
      "['1*', '2*', '1*', '2*', '3*', '4*']\n",
      "['1*', '2*', '1*', '2*', '3*', '4']\n",
      "['1*', '2*', '1*', '2*', '3', '4*']\n",
      "['1*', '2*', '1*', '2*', '3', '4']\n",
      "['1*', '2*', '1*', '2', '3*', '4*']\n",
      "['1*', '2*', '1*', '2', '3*', '4']\n",
      "['1*', '2*', '1*', '2', '3', '4*']\n",
      "['1*', '2*', '1*', '2', '3', '4']\n",
      "['1*', '2*', '1', '2*', '3*', '4*']\n",
      "['1*', '2*', '1', '2*', '3*', '4']\n",
      "['1*', '2*', '1', '2*', '3', '4*']\n",
      "['1*', '2*', '1', '2*', '3', '4']\n",
      "['1*', '2*', '1', '2', '3*', '4*']\n",
      "['1*', '2*', '1', '2', '3*', '4']\n",
      "['1*', '2*', '1', '2', '3', '4*']\n",
      "['1*', '2*', '1', '2', '3', '4']\n",
      "['1*', '2', '1*', '2*', '3*', '4*']\n",
      "['1*', '2', '1*', '2*', '3*', '4']\n",
      "['1*', '2', '1*', '2*', '3', '4*']\n",
      "['1*', '2', '1*', '2*', '3', '4']\n",
      "['1*', '2', '1*', '2', '3*', '4*']\n",
      "['1*', '2', '1*', '2', '3*', '4']\n",
      "['1*', '2', '1*', '2', '3', '4*']\n",
      "['1*', '2', '1*', '2', '3', '4']\n",
      "['1*', '2', '1', '2*', '3*', '4*']\n",
      "['1*', '2', '1', '2*', '3*', '4']\n",
      "['1*', '2', '1', '2*', '3', '4*']\n",
      "['1*', '2', '1', '2*', '3', '4']\n",
      "['1*', '2', '1', '2', '3*', '4*']\n",
      "['1*', '2', '1', '2', '3*', '4']\n",
      "['1*', '2', '1', '2', '3', '4*']\n",
      "['1*', '2', '1', '2', '3', '4']\n",
      "['1', '2*', '1*', '2*', '3*', '4*']\n",
      "['1', '2*', '1*', '2*', '3*', '4']\n",
      "['1', '2*', '1*', '2*', '3', '4*']\n",
      "['1', '2*', '1*', '2*', '3', '4']\n",
      "['1', '2*', '1*', '2', '3*', '4*']\n",
      "['1', '2*', '1*', '2', '3*', '4']\n",
      "['1', '2*', '1*', '2', '3', '4*']\n",
      "['1', '2*', '1*', '2', '3', '4']\n",
      "['1', '2*', '1', '2*', '3*', '4*']\n",
      "['1', '2*', '1', '2*', '3*', '4']\n",
      "['1', '2*', '1', '2*', '3', '4*']\n",
      "['1', '2*', '1', '2*', '3', '4']\n",
      "['1', '2*', '1', '2', '3*', '4*']\n",
      "['1', '2*', '1', '2', '3*', '4']\n",
      "['1', '2*', '1', '2', '3', '4*']\n",
      "['1', '2*', '1', '2', '3', '4']\n",
      "['1', '2', '1*', '2*', '3*', '4*']\n",
      "['1', '2', '1*', '2*', '3*', '4']\n",
      "['1', '2', '1*', '2*', '3', '4*']\n",
      "['1', '2', '1*', '2*', '3', '4']\n",
      "['1', '2', '1*', '2', '3*', '4*']\n",
      "['1', '2', '1*', '2', '3*', '4']\n",
      "['1', '2', '1*', '2', '3', '4*']\n",
      "['1', '2', '1*', '2', '3', '4']\n",
      "['1', '2', '1', '2*', '3*', '4*']\n",
      "['1', '2', '1', '2*', '3*', '4']\n",
      "['1', '2', '1', '2*', '3', '4*']\n",
      "['1', '2', '1', '2*', '3', '4']\n",
      "['1', '2', '1', '2', '3*', '4*']\n",
      "['1', '2', '1', '2', '3*', '4']\n",
      "['1', '2', '1', '2', '3', '4*']\n",
      "['1', '2', '1', '2', '3', '4']\n",
      "['3*', '4*']\n",
      "['3*', '4']\n",
      "['3', '4*']\n",
      "['3', '4']\n",
      "['3*', '4*', '3*', '2*']\n",
      "['3*', '4*', '3*', '2']\n",
      "['3*', '4*', '3', '2*']\n",
      "['3*', '4*', '3', '2']\n",
      "['3*', '4', '3*', '2*']\n",
      "['3*', '4', '3*', '2']\n",
      "['3*', '4', '3', '2*']\n",
      "['3*', '4', '3', '2']\n",
      "['3', '4*', '3*', '2*']\n",
      "['3', '4*', '3*', '2']\n",
      "['3', '4*', '3', '2*']\n",
      "['3', '4*', '3', '2']\n",
      "['3', '4', '3*', '2*']\n",
      "['3', '4', '3*', '2']\n",
      "['3', '4', '3', '2*']\n",
      "['3', '4', '3', '2']\n",
      "['5*', '2*', '3*']\n",
      "['5*', '2*', '3']\n",
      "['5*', '2', '3*']\n",
      "['5*', '2', '3']\n",
      "['5', '2*', '3*']\n",
      "['5', '2*', '3']\n",
      "['5', '2', '3*']\n",
      "['5', '2', '3']\n",
      "['1*', '2*', '5*']\n",
      "['1*', '2*', '5']\n",
      "['1*', '2', '5*']\n",
      "['1*', '2', '5']\n",
      "['1', '2*', '5*']\n",
      "['1', '2*', '5']\n",
      "['1', '2', '5*']\n",
      "['1', '2', '5']\n",
      "['1*', '6*', '3*']\n",
      "['1*', '6*', '3']\n",
      "['1*', '6', '3*']\n",
      "['1*', '6', '3']\n",
      "['1', '6*', '3*']\n",
      "['1', '6*', '3']\n",
      "['1', '6', '3*']\n",
      "['1', '6', '3']\n",
      "['2*', '3*', '6*']\n",
      "['2*', '3*', '6']\n",
      "['2*', '3', '6*']\n",
      "['2*', '3', '6']\n",
      "['2', '3*', '6*']\n",
      "['2', '3*', '6']\n",
      "['2', '3', '6*']\n",
      "['2', '3', '6']\n"
     ]
    }
   ],
   "source": [
    "# add body shots to the data in any positions\n",
    "df = df.apply(add_dodge).explode(0)"
   ]
  },
  {
   "cell_type": "code",
   "execution_count": 14,
   "metadata": {},
   "outputs": [
    {
     "data": {
      "text/plain": [
       "0          [1*, 12, 2*]\n",
       "0       [1*, 12, 3, 2*]\n",
       "0       [1*, 2*, 8, 6*]\n",
       "0    [1*, 9, 2*, 8, 6*]\n",
       "0       [1*, 2*, 12, 5]\n",
       "dtype: object"
      ]
     },
     "execution_count": 14,
     "metadata": {},
     "output_type": "execute_result"
    }
   ],
   "source": [
    "df.head()"
   ]
  },
  {
   "cell_type": "code",
   "execution_count": 15,
   "metadata": {},
   "outputs": [
    {
     "name": "stdout",
     "output_type": "stream",
     "text": [
      "<class 'pandas.core.series.Series'>\n",
      "Int64Index: 12275 entries, 0 to 18\n",
      "Series name: None\n",
      "Non-Null Count  Dtype \n",
      "--------------  ----- \n",
      "12275 non-null  object\n",
      "dtypes: object(1)\n",
      "memory usage: 191.8+ KB\n"
     ]
    }
   ],
   "source": [
    "df.info()"
   ]
  },
  {
   "cell_type": "code",
   "execution_count": 16,
   "metadata": {},
   "outputs": [
    {
     "data": {
      "text/plain": [
       "0        14,1*,12,2*,15\n",
       "0      14,1*,12,3,2*,15\n",
       "0      14,1*,2*,8,6*,15\n",
       "0    14,1*,9,2*,8,6*,15\n",
       "0      14,1*,2*,12,5,15\n",
       "dtype: object"
      ]
     },
     "execution_count": 16,
     "metadata": {},
     "output_type": "execute_result"
    }
   ],
   "source": [
    "# add special start and end tokens\n",
    "df = df.apply(lambda x: \",\".join(['14'] + x + ['15']))\n",
    "df.head()"
   ]
  },
  {
   "cell_type": "code",
   "execution_count": 17,
   "metadata": {},
   "outputs": [],
   "source": [
    "# split the dataframe to train, validation and test\n",
    "data = df.values\n",
    "# shuffle the data before splitting\n",
    "np.random.shuffle(data)\n",
    "# split the data\n",
    "train, validate, test = data[:len(data) * 7 // 10], data[len(data) * 7 // 10: len(data) * 9 // 10], data[len(data) * 9 // 10:]"
   ]
  },
  {
   "cell_type": "code",
   "execution_count": 18,
   "metadata": {},
   "outputs": [
    {
     "data": {
      "text/plain": [
       "(array(['14,1,2,9,1*,2,3*,4,15', '14,2,3,8,6*,2*,15',\n",
       "        '14,2,12,3*,6*,11,15', ..., '14,3,10,4*,8,6*,3,2,15',\n",
       "        '14,2*,3*,13,2,15', '14,1,11,6*,2,13,5*,15'], dtype=object),\n",
       " 8592)"
      ]
     },
     "execution_count": 18,
     "metadata": {},
     "output_type": "execute_result"
    }
   ],
   "source": [
    "train, len(train)"
   ]
  },
  {
   "cell_type": "code",
   "execution_count": 19,
   "metadata": {},
   "outputs": [
    {
     "data": {
      "text/plain": [
       "(array(['14,2,8,3*,9,2*,15', '14,2,3*,10,6*,15', '14,1,13,1,2*,8,2*,15',\n",
       "        ..., '14,1*,8,2,1,2*,15', '14,3,4*,12,3*,2,13,15',\n",
       "        '14,1*,2*,1,2,3,4*,10,15'], dtype=object),\n",
       " 2455)"
      ]
     },
     "execution_count": 19,
     "metadata": {},
     "output_type": "execute_result"
    }
   ],
   "source": [
    "validate, len(validate)"
   ]
  },
  {
   "cell_type": "code",
   "execution_count": 20,
   "metadata": {},
   "outputs": [
    {
     "data": {
      "text/plain": [
       "(array(['14,1,2,5,12,15', '14,1*,2,1,12,3,2*,7,15', '14,1*,2,1*,2,15', ...,\n",
       "        '14,1*,2*,11,1,2,3*,13,4,10,15',\n",
       "        '14,1*,2,12,5*,1,11,4*,2*,3,7,4*,15', '14,1,2,1,2*,11,3*,7,4*,15'],\n",
       "       dtype=object),\n",
       " 1228)"
      ]
     },
     "execution_count": 20,
     "metadata": {},
     "output_type": "execute_result"
    }
   ],
   "source": [
    "test, len(test)"
   ]
  },
  {
   "cell_type": "code",
   "execution_count": 21,
   "metadata": {},
   "outputs": [],
   "source": [
    "# write the data to files\n",
    "pd.DataFrame(train).to_csv(\"train.txt\", sep=\"\\t\", header=None, index=None)\n",
    "pd.DataFrame(validate).to_csv(\"validate.txt\", sep=\"\\t\", header=None, index=None)\n",
    "pd.DataFrame(test).to_csv(\"test.txt\", sep=\"\\t\", header=None, index=None)"
   ]
  }
 ],
 "metadata": {
  "kernelspec": {
   "display_name": "torch",
   "language": "python",
   "name": "python3"
  },
  "language_info": {
   "codemirror_mode": {
    "name": "ipython",
    "version": 3
   },
   "file_extension": ".py",
   "mimetype": "text/x-python",
   "name": "python",
   "nbconvert_exporter": "python",
   "pygments_lexer": "ipython3",
   "version": "3.10.4"
  },
  "orig_nbformat": 4,
  "vscode": {
   "interpreter": {
    "hash": "eda68c6bb54b6bdc4899119e22af87b8ff44e99c9ea8c6c43212e402f41a0704"
   }
  }
 },
 "nbformat": 4,
 "nbformat_minor": 2
}
